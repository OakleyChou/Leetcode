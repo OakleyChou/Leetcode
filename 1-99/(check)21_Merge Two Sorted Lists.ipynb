{
 "cells": [
  {
   "cell_type": "markdown",
   "id": "af059615",
   "metadata": {},
   "source": [
    "題目:將兩個linked list排序  \n",
    "Merge two sorted linked lists and return it as a sorted list. The list should be made by splicing together the nodes of the first two lists.  \n",
    "Input: l1 = [1,2,4], l2 = [1,3,4]  \n",
    "Output: [1,1,2,3,4,4]  "
   ]
  },
  {
   "cell_type": "markdown",
   "id": "de5e67cf",
   "metadata": {},
   "source": [
    "linked list是一種常見的基礎數據結構，是一種線性表，  \n",
    "但是並不會按線性的順序存儲數據，而是在每一個節點裡存到下一個節點的指針(Pointer)。  \n",
    "由於不必須按順序存儲，鍊表在插入的時候可以達到O(1)的複雜度  \n",
    "但是鍊表失去了數組隨機讀取的優點，同時鍊表由於增加了結點的指針域，空間開銷比較大。   \n",
    "鍊表允許插入和移除表上任意位置上的節點，但是不允許隨機存取"
   ]
  },
  {
   "cell_type": "code",
   "execution_count": 2,
   "id": "f2ca95ed",
   "metadata": {},
   "outputs": [],
   "source": [
    "# Definition for singly-linked list.\n",
    "class ListNode(object):\n",
    "    def __init__(self, x):\n",
    "        self.val = x\n",
    "        self.next = None"
   ]
  },
  {
   "cell_type": "code",
   "execution_count": 28,
   "id": "b00ca034",
   "metadata": {},
   "outputs": [],
   "source": [
    "    def mergeTwoLists(l1,l2):\n",
    "        dum = ListNode(0)\n",
    "        prev = dum                                     #dum : 用來儲存\n",
    "\n",
    "        while l1 and l2 :                             #若l1,l2中至少有一個非空\n",
    "            if l1.val <= l2.val :                     #判斷當前l1,l2值哪個比較小 , 取較小的放入prev並將其遞移到下一個節點\n",
    "                prev.next = l1.val \n",
    "                l1 = l1.next\n",
    "            else : \n",
    "                prev.next = l2.val\n",
    "                l2 = l2.next\n",
    "            prev = prev.next                           #prev取完較小的後也遞移到下一個節點,準備取下一個節點\n",
    "        if l1 == None :                                #若l1都取完的話\n",
    "            prev.next = l2                             #自動放入l2 \n",
    "        if l2 == None :\n",
    "            prev.next = l2\n",
    "        return dum.next\n",
    "\n"
   ]
  },
  {
   "cell_type": "code",
   "execution_count": 36,
   "id": "543e7f12",
   "metadata": {},
   "outputs": [],
   "source": [
    "class Solution(object):\n",
    "    def mergeTwoLists(self, l1, l2):\n",
    "        dummy = ListNode(0)  \n",
    "        cur = dummy  \n",
    "        while l1 and l2:  \n",
    "            if l1.val <= l2.val:  \n",
    "                cur.next = l1  \n",
    "                l1 = l1.next  \n",
    "            else:  \n",
    "                cur.next = l2  \n",
    "                l2 = l2.next  \n",
    "            cur = cur.next  \n",
    "        cur.next = l1 or l2  \n",
    "  \n",
    "        return dummy.next  "
   ]
  },
  {
   "cell_type": "code",
   "execution_count": 37,
   "id": "0d872354",
   "metadata": {},
   "outputs": [
    {
     "ename": "AttributeError",
     "evalue": "'list' object has no attribute 'val'",
     "output_type": "error",
     "traceback": [
      "\u001b[1;31m---------------------------------------------------------------------------\u001b[0m",
      "\u001b[1;31mAttributeError\u001b[0m                            Traceback (most recent call last)",
      "\u001b[1;32m~\\AppData\\Local\\Temp/ipykernel_17884/3627072062.py\u001b[0m in \u001b[0;36m<module>\u001b[1;34m\u001b[0m\n\u001b[0;32m      1\u001b[0m \u001b[0mans\u001b[0m \u001b[1;33m=\u001b[0m \u001b[0mSolution\u001b[0m\u001b[1;33m(\u001b[0m\u001b[1;33m)\u001b[0m\u001b[1;33m\u001b[0m\u001b[1;33m\u001b[0m\u001b[0m\n\u001b[1;32m----> 2\u001b[1;33m \u001b[0mans\u001b[0m\u001b[1;33m.\u001b[0m\u001b[0mmergeTwoLists\u001b[0m\u001b[1;33m(\u001b[0m\u001b[0ml1\u001b[0m\u001b[1;33m=\u001b[0m\u001b[1;33m[\u001b[0m\u001b[1;36m1\u001b[0m\u001b[1;33m,\u001b[0m\u001b[1;36m2\u001b[0m\u001b[1;33m,\u001b[0m\u001b[1;36m5\u001b[0m\u001b[1;33m,\u001b[0m\u001b[1;36m7\u001b[0m\u001b[1;33m,\u001b[0m\u001b[1;36m16\u001b[0m\u001b[1;33m]\u001b[0m \u001b[1;33m,\u001b[0m \u001b[0ml2\u001b[0m \u001b[1;33m=\u001b[0m \u001b[1;33m[\u001b[0m\u001b[1;36m1\u001b[0m\u001b[1;33m,\u001b[0m\u001b[1;36m1\u001b[0m\u001b[1;33m,\u001b[0m\u001b[1;36m5\u001b[0m\u001b[1;33m,\u001b[0m\u001b[1;36m6\u001b[0m\u001b[1;33m,\u001b[0m\u001b[1;36m27\u001b[0m\u001b[1;33m]\u001b[0m\u001b[1;33m)\u001b[0m\u001b[1;33m\u001b[0m\u001b[1;33m\u001b[0m\u001b[0m\n\u001b[0m",
      "\u001b[1;32m~\\AppData\\Local\\Temp/ipykernel_17884/1297424554.py\u001b[0m in \u001b[0;36mmergeTwoLists\u001b[1;34m(self, l1, l2)\u001b[0m\n\u001b[0;32m      4\u001b[0m         \u001b[0mcur\u001b[0m \u001b[1;33m=\u001b[0m \u001b[0mdummy\u001b[0m\u001b[1;33m\u001b[0m\u001b[1;33m\u001b[0m\u001b[0m\n\u001b[0;32m      5\u001b[0m         \u001b[1;32mwhile\u001b[0m \u001b[0ml1\u001b[0m \u001b[1;32mand\u001b[0m \u001b[0ml2\u001b[0m\u001b[1;33m:\u001b[0m\u001b[1;33m\u001b[0m\u001b[1;33m\u001b[0m\u001b[0m\n\u001b[1;32m----> 6\u001b[1;33m             \u001b[1;32mif\u001b[0m \u001b[0ml1\u001b[0m\u001b[1;33m.\u001b[0m\u001b[0mval\u001b[0m \u001b[1;33m<=\u001b[0m \u001b[0ml2\u001b[0m\u001b[1;33m.\u001b[0m\u001b[0mval\u001b[0m\u001b[1;33m:\u001b[0m\u001b[1;33m\u001b[0m\u001b[1;33m\u001b[0m\u001b[0m\n\u001b[0m\u001b[0;32m      7\u001b[0m                 \u001b[0mcur\u001b[0m\u001b[1;33m.\u001b[0m\u001b[0mnext\u001b[0m \u001b[1;33m=\u001b[0m \u001b[0ml1\u001b[0m\u001b[1;33m\u001b[0m\u001b[1;33m\u001b[0m\u001b[0m\n\u001b[0;32m      8\u001b[0m                 \u001b[0ml1\u001b[0m \u001b[1;33m=\u001b[0m \u001b[0ml1\u001b[0m\u001b[1;33m.\u001b[0m\u001b[0mnext\u001b[0m\u001b[1;33m\u001b[0m\u001b[1;33m\u001b[0m\u001b[0m\n",
      "\u001b[1;31mAttributeError\u001b[0m: 'list' object has no attribute 'val'"
     ]
    }
   ],
   "source": [
    "ans = Solution()\n",
    "ans.mergeTwoLists(l1=[1,2,5,7,16] , l2 = [1,1,5,6,27])"
   ]
  },
  {
   "cell_type": "code",
   "execution_count": null,
   "id": "3f78496a",
   "metadata": {},
   "outputs": [],
   "source": []
  }
 ],
 "metadata": {
  "kernelspec": {
   "display_name": "Python 3 (ipykernel)",
   "language": "python",
   "name": "python3"
  },
  "language_info": {
   "codemirror_mode": {
    "name": "ipython",
    "version": 3
   },
   "file_extension": ".py",
   "mimetype": "text/x-python",
   "name": "python",
   "nbconvert_exporter": "python",
   "pygments_lexer": "ipython3",
   "version": "3.8.11"
  }
 },
 "nbformat": 4,
 "nbformat_minor": 5
}
