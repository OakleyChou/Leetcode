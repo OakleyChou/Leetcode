{
 "cells": [
  {
   "cell_type": "markdown",
   "id": "01be8ea8",
   "metadata": {},
   "source": [
    "題目:Binary Tree 中序遍歷：左子樹、根結點、右子樹  "
   ]
  },
  {
   "cell_type": "code",
   "execution_count": 5,
   "id": "dd6dc584",
   "metadata": {},
   "outputs": [],
   "source": [
    "class TreeNode:\n",
    "     def __init__(self, val=0, left=None, right=None):\n",
    "            self.val = val\n",
    "            self.left = left\n",
    "            self.right = right"
   ]
  },
  {
   "cell_type": "code",
   "execution_count": 6,
   "id": "03261d8d",
   "metadata": {},
   "outputs": [],
   "source": [
    "#遞迴解法"
   ]
  },
  {
   "cell_type": "code",
   "execution_count": 7,
   "id": "5b876f11",
   "metadata": {},
   "outputs": [],
   "source": [
    "def inorderTraversal( root):\n",
    "    answer = []\n",
    "    def inorder(root):\n",
    "        if root == None :\n",
    "            return None\n",
    "        if root.left != None:\n",
    "            inorder(root.left)\n",
    "        answer.append(root.val)\n",
    "        if root.right != None:\n",
    "            inorder(root.right)\n",
    "        inorder(root)\n",
    "        return answer"
   ]
  },
  {
   "cell_type": "code",
   "execution_count": 11,
   "id": "707e6363",
   "metadata": {},
   "outputs": [],
   "source": [
    "inorderTraversal(root = [1,2,3])"
   ]
  },
  {
   "cell_type": "code",
   "execution_count": null,
   "id": "88688ecc",
   "metadata": {},
   "outputs": [],
   "source": [
    "class Solution(object):\n",
    "    def inorderTraversal(self, root):\n",
    "        \"\"\"\n",
    "        :type root: TreeNode\n",
    "        :rtype: List[int]\n",
    "        \"\"\"\n",
    "        answer = []\n",
    "        def inorder(root):\n",
    "            if root == None:\n",
    "                return None\n",
    "            if root.left != None:\n",
    "                inorder(root.left)\n",
    "            answer.append(root.val)\n",
    "            if root.right != None:\n",
    "                inorder(root.right)\n",
    "        inorder(root)\n",
    "        return answer\n",
    "-----------------------------------\n",
    "©著作权归作者所有：来自51CTO博客作者负雪明烛的原创作品，如需转载，请注明出处，否则将追究法律责任\n",
    "【LeetCode】94. Binary Tree Inorder Traversal 解题报告(Python&C++)\n",
    "https://blog.51cto.com/u_15302258/3075627"
   ]
  },
  {
   "cell_type": "code",
   "execution_count": null,
   "id": "ba686b0e",
   "metadata": {},
   "outputs": [],
   "source": []
  },
  {
   "cell_type": "code",
   "execution_count": null,
   "id": "f31930bc",
   "metadata": {},
   "outputs": [],
   "source": []
  },
  {
   "cell_type": "code",
   "execution_count": null,
   "id": "399d3adc",
   "metadata": {},
   "outputs": [],
   "source": []
  },
  {
   "cell_type": "code",
   "execution_count": null,
   "id": "373c975d",
   "metadata": {},
   "outputs": [],
   "source": [
    "class Solution:\n",
    "    def inorderTraversal(self, root: TreeNode) -> List[int]:\n",
    "        if root is None:\n",
    "            return []\n",
    "        stack = [root]\n",
    "        res = []\n",
    "        while len(stack) > 0:\n",
    "            curr = stack.pop()\n",
    "            if not isinstance(curr, TreeNode):\n",
    "                res.append(curr)\n",
    "                continue\n",
    "            if curr.right is not None:\n",
    "                stack.append(curr.right)\n",
    "            stack.append(curr.val)\n",
    "            if curr.left is not None:\n",
    "                stack.append(curr.left)\n",
    "        return res"
   ]
  },
  {
   "cell_type": "code",
   "execution_count": null,
   "id": "93242e76",
   "metadata": {},
   "outputs": [],
   "source": []
  }
 ],
 "metadata": {
  "kernelspec": {
   "display_name": "Python 3 (ipykernel)",
   "language": "python",
   "name": "python3"
  },
  "language_info": {
   "codemirror_mode": {
    "name": "ipython",
    "version": 3
   },
   "file_extension": ".py",
   "mimetype": "text/x-python",
   "name": "python",
   "nbconvert_exporter": "python",
   "pygments_lexer": "ipython3",
   "version": "3.8.11"
  }
 },
 "nbformat": 4,
 "nbformat_minor": 5
}
