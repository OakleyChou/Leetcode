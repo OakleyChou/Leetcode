{
 "cells": [
  {
   "cell_type": "code",
   "execution_count": 8,
   "id": "aac317bc",
   "metadata": {},
   "outputs": [],
   "source": [
    "import numpy as np\n",
    "import pandas as pd"
   ]
  },
  {
   "cell_type": "markdown",
   "id": "327fcb4f",
   "metadata": {},
   "source": [
    "題目:   \n",
    "Given an array of integers, return indices of the two numbers such that they add up to a specific target.  \n",
    "You may assume that each input would have exactly one solution, and you may not use the same element twice.  \n",
    "Example:  \n",
    "Given nums = [2, 7, 11, 15], target = 9,   \n",
    "Because nums[0] + nums[1] = 2 + 7 = 9,   \n",
    "return [0, 1]."
   ]
  },
  {
   "cell_type": "markdown",
   "id": "bb37e981",
   "metadata": {},
   "source": [
    "##  1. Two Sum"
   ]
  },
  {
   "cell_type": "markdown",
   "id": "5ced103a",
   "metadata": {},
   "source": [
    "(Way1) Easy way\n",
    "兩個for 迴圈  \n",
    "先從nums裡最左邊開始取, 再找剩下的相加有沒有等於target\n",
    "\n",
    "\n",
    "--> 計算時間太長"
   ]
  },
  {
   "cell_type": "code",
   "execution_count": 143,
   "id": "a1569b0f",
   "metadata": {},
   "outputs": [],
   "source": [
    "class Solution1:\n",
    "    def twoSum(self ,nums, target):\n",
    "        for i in range(len(nums)):\n",
    "            right = nums[i+1:]\n",
    "            for j in range(len(right)):\n",
    "            #for j in range(i+1 , len(nums)):\n",
    "                if (nums[i] + right[j]) == target:\n",
    "                    return [i, j+i+1]\n"
   ]
  },
  {
   "cell_type": "code",
   "execution_count": 144,
   "id": "0705198c",
   "metadata": {
    "scrolled": false
   },
   "outputs": [
    {
     "data": {
      "text/plain": [
       "[1, 3]"
      ]
     },
     "execution_count": 144,
     "metadata": {},
     "output_type": "execute_result"
    }
   ],
   "source": [
    "a = Solution1()\n",
    "a.twoSum( nums =[2,7,11,15] , target = 22)"
   ]
  },
  {
   "cell_type": "markdown",
   "id": "af98863a",
   "metadata": {},
   "source": [
    "(Way2) 單迴圈  \n",
    "迴圈依序從最左邊找nums, 再找剩下的有沒有等於target - nums[i]\n"
   ]
  },
  {
   "cell_type": "code",
   "execution_count": 152,
   "id": "f382f8b1",
   "metadata": {},
   "outputs": [],
   "source": [
    "class Solution2:\n",
    "    def twoSum(self ,nums, target):\n",
    "        k=0\n",
    "        for i in nums:\n",
    "            k += 1 \n",
    "            if target - i in nums[k:]:\n",
    "                return ([ k-1 , nums[k:].index(target - i)+ k] )"
   ]
  },
  {
   "cell_type": "code",
   "execution_count": 153,
   "id": "378322bd",
   "metadata": {},
   "outputs": [
    {
     "data": {
      "text/plain": [
       "[1, 3]"
      ]
     },
     "execution_count": 153,
     "metadata": {},
     "output_type": "execute_result"
    }
   ],
   "source": [
    "a = Solution2()\n",
    "a.twoSum( nums =[2,7,11,15] , target = 22)"
   ]
  },
  {
   "cell_type": "markdown",
   "id": "5c696037",
   "metadata": {},
   "source": [
    "(Way3) 最快的  \n",
    "創造一個dict儲存index,nums  \n",
    "再直接從dict裡找目標"
   ]
  },
  {
   "cell_type": "code",
   "execution_count": 161,
   "id": "36ee2288",
   "metadata": {},
   "outputs": [],
   "source": [
    "class Solution3:\n",
    "    def twoSum(self ,nums, target):\n",
    "        dicts = {}\n",
    "        for i in range(len(nums)):\n",
    "            if (target-nums[i]) in dicts:\n",
    "                return [dicts[target-nums[i]], i]\n",
    "            else:\n",
    "                dicts[nums[i]] = i"
   ]
  },
  {
   "cell_type": "code",
   "execution_count": 162,
   "id": "5674caf6",
   "metadata": {},
   "outputs": [
    {
     "data": {
      "text/plain": [
       "[1, 3]"
      ]
     },
     "execution_count": 162,
     "metadata": {},
     "output_type": "execute_result"
    }
   ],
   "source": [
    "a = Solution3()\n",
    "a.twoSum( nums =[2,7,11,15] , target = 22)"
   ]
  },
  {
   "cell_type": "code",
   "execution_count": null,
   "id": "cad62ea8",
   "metadata": {},
   "outputs": [],
   "source": []
  }
 ],
 "metadata": {
  "kernelspec": {
   "display_name": "Python 3 (ipykernel)",
   "language": "python",
   "name": "python3"
  },
  "language_info": {
   "codemirror_mode": {
    "name": "ipython",
    "version": 3
   },
   "file_extension": ".py",
   "mimetype": "text/x-python",
   "name": "python",
   "nbconvert_exporter": "python",
   "pygments_lexer": "ipython3",
   "version": "3.8.11"
  }
 },
 "nbformat": 4,
 "nbformat_minor": 5
}
