{
 "cells": [
  {
   "cell_type": "markdown",
   "id": "6d7f6232",
   "metadata": {},
   "source": [
    "題目:羅馬數字轉數字   \n",
    "Symbol       Value   \n",
    "I             1   \n",
    "V             5   \n",
    "X             10   \n",
    "L             50   \n",
    "C             100   \n",
    "D             500   \n",
    "M             1000   "
   ]
  },
  {
   "cell_type": "code",
   "execution_count": 44,
   "id": "89b531c1",
   "metadata": {},
   "outputs": [],
   "source": [
    "class Solution:\n",
    "    def romanToInt(self,s):    \n",
    "        mmap = {'I':1 , 'V': 5 , 'X':10 , 'L':50 , 'C':100 , 'D':500 , 'M':1000}\n",
    "        result = mmap[s[-1]]\n",
    "        for i in range(0 ,len(s) - 1):\n",
    "            if mmap[s[i+1]] <= mmap[s[i]] :\n",
    "                result += mmap[s[i]]\n",
    "            elif mmap[s[i+1]] >= mmap[s[i]] :\n",
    "                result -= mmap[s[i]]\n",
    "        return result"
   ]
  },
  {
   "cell_type": "code",
   "execution_count": 45,
   "id": "4d753da5",
   "metadata": {},
   "outputs": [
    {
     "data": {
      "text/plain": [
       "1400"
      ]
     },
     "execution_count": 45,
     "metadata": {},
     "output_type": "execute_result"
    }
   ],
   "source": [
    "ans = Solution()\n",
    "ans.romanToInt('DCM')"
   ]
  },
  {
   "cell_type": "code",
   "execution_count": 46,
   "id": "f241b789",
   "metadata": {},
   "outputs": [
    {
     "data": {
      "text/plain": [
       "1400"
      ]
     },
     "execution_count": 46,
     "metadata": {},
     "output_type": "execute_result"
    }
   ],
   "source": [
    "ans.romanToInt('MCD')"
   ]
  },
  {
   "cell_type": "code",
   "execution_count": null,
   "id": "31d04384",
   "metadata": {},
   "outputs": [],
   "source": []
  }
 ],
 "metadata": {
  "kernelspec": {
   "display_name": "Python 3 (ipykernel)",
   "language": "python",
   "name": "python3"
  },
  "language_info": {
   "codemirror_mode": {
    "name": "ipython",
    "version": 3
   },
   "file_extension": ".py",
   "mimetype": "text/x-python",
   "name": "python",
   "nbconvert_exporter": "python",
   "pygments_lexer": "ipython3",
   "version": "3.8.11"
  }
 },
 "nbformat": 4,
 "nbformat_minor": 5
}
