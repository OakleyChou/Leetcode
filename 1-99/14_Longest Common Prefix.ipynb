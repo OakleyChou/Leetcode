{
 "cells": [
  {
   "cell_type": "markdown",
   "id": "0dcddabf",
   "metadata": {},
   "source": [
    "題目:查找字符串數組中的最長公共前綴(第一個字母開始比較),如果不存在公共前綴，返回空字符串 \"\"  \n",
    "Write a function to find the longest common prefix string amongst an array of strings.  \n",
    "If there is no common prefix, return an empty string \"\".  \n",
    "\n",
    "Example 1:  \n",
    "\n",
    "Input: strs = [\"flower\",\"flow\",\"flight\"]  \n",
    "Output: \"fl\"  "
   ]
  },
  {
   "cell_type": "code",
   "execution_count": 32,
   "id": "6f5e05c9",
   "metadata": {},
   "outputs": [],
   "source": [
    "#一一跟第一個字串比較\n",
    "class Solution1():\n",
    "    def longestCommonPrefix(self , strs):\n",
    "        result = ''                                               #回傳答案\n",
    "        compTemp = ''                                             #當下比較的陣列(字母)\n",
    "        if (strs is not None and len(strs) != 0):\n",
    "            result = str(strs[0])                                 #取第一個做比較\n",
    "            for i in range(1 , len(strs)):                        #與第二個~最後一個比較\n",
    "                temp = strs[i]                                    #比對陣列( flower vs. flow --> flower vs. fight )\n",
    "                for j in range( min( len(temp) , len(result) ) ): #取較短的字串,以免溢出陣列指標(flow)\n",
    "                    if result[0] != temp[0] :                     #如果第一個字母就不相同 --> \"\"\n",
    "                        compTemp =\"\"  #return  \"\" \n",
    "                    if result[j] == temp[j] :                     #如果對的話\n",
    "                        compTemp = compTemp + temp[j]             #加上當下比較的字母\n",
    "                    else:break\n",
    "                result = compTemp\n",
    "                compTemp = ''\n",
    "            return result"
   ]
  },
  {
   "cell_type": "code",
   "execution_count": 43,
   "id": "dc99577f",
   "metadata": {},
   "outputs": [
    {
     "data": {
      "text/plain": [
       "'c'"
      ]
     },
     "execution_count": 43,
     "metadata": {},
     "output_type": "execute_result"
    }
   ],
   "source": [
    "ans = Solution1()\n",
    "strs = [\"cir\",\"caar\"]\n",
    "ans.longestCommonPrefix(strs)"
   ]
  },
  {
   "cell_type": "code",
   "execution_count": 55,
   "id": "ae6df18e",
   "metadata": {},
   "outputs": [],
   "source": [
    "## 先排序後再比較(只需比第一個 , 最後一個)\n",
    "class Solution2():\n",
    "    def longestCommonPrefix(self , strs):\n",
    "        strs = sorted(strs)\n",
    "        result = ''\n",
    "        compTemp = ''\n",
    "        if (strs is not None and len(strs) != 0):\n",
    "            for j in range( min( len(min(strs)) , len(max(strs)) ) ):\n",
    "                if min(strs)[0] != max(strs)[0] :                 \n",
    "                    compTemp =\"\"  \n",
    "                if min(strs)[j] == max(strs)[j] :                     \n",
    "                    compTemp = compTemp + min(strs)[j]           \n",
    "                else:break\n",
    "            result = compTemp\n",
    "            compTemp = ''\n",
    "        return result\n",
    "        "
   ]
  },
  {
   "cell_type": "code",
   "execution_count": 56,
   "id": "2d404a36",
   "metadata": {},
   "outputs": [
    {
     "data": {
      "text/plain": [
       "'fl'"
      ]
     },
     "execution_count": 56,
     "metadata": {},
     "output_type": "execute_result"
    }
   ],
   "source": [
    "ans = Solution2()\n",
    "strs = [\"flower\",\"flow\",\"flight\"]\n",
    "ans.longestCommonPrefix(strs)"
   ]
  },
  {
   "cell_type": "code",
   "execution_count": null,
   "id": "bf87ef66",
   "metadata": {},
   "outputs": [],
   "source": []
  }
 ],
 "metadata": {
  "kernelspec": {
   "display_name": "Python 3 (ipykernel)",
   "language": "python",
   "name": "python3"
  },
  "language_info": {
   "codemirror_mode": {
    "name": "ipython",
    "version": 3
   },
   "file_extension": ".py",
   "mimetype": "text/x-python",
   "name": "python",
   "nbconvert_exporter": "python",
   "pygments_lexer": "ipython3",
   "version": "3.8.11"
  }
 },
 "nbformat": 4,
 "nbformat_minor": 5
}
