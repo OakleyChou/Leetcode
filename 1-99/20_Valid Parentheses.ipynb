{
 "cells": [
  {
   "cell_type": "markdown",
   "id": "86764340",
   "metadata": {},
   "source": [
    "題目:判斷是否為有效括號  \n",
    "Given a string s containing just the characters '(', ')', '{', '}', '[' and ']', determine if the input string is valid.  \n",
    "\n",
    "An input string is valid if:  \n",
    "Open brackets must be closed by the same type of brackets.  \n",
    "Open brackets must be closed in the correct order.  "
   ]
  },
  {
   "cell_type": "code",
   "execution_count": 48,
   "id": "bbab6ca0",
   "metadata": {},
   "outputs": [],
   "source": [
    "class Solution1():\n",
    "    def isValid(self,s):\n",
    "        stack = []\n",
    "        dicts = {\"]\":\"[\", \"}\":\"{\", \")\":\"(\"}\n",
    "        for char in s :\n",
    "            if char in dicts.values():                             #如果是左括號的話\n",
    "                stack.append(char)                                 #stack = 左括號\n",
    "            elif char in dicts.keys():                             #如果是右括號的話\n",
    "                if stack == [] or dicts[char] != stack.pop():      #判對前面(最靠近的)有沒有該有的左括號,沒有的話 -->False\n",
    "                    return False        #移除最後一個元素並返回該值  #stack.pop()移除列表中的一個元素（預設最後一個）並且返回該元素的值\n",
    "                #else : True\n",
    "            else :                                                 #排除其他狀況\n",
    "                return False\n",
    "        return stack == []"
   ]
  },
  {
   "cell_type": "code",
   "execution_count": 50,
   "id": "7ff43a82",
   "metadata": {},
   "outputs": [
    {
     "data": {
      "text/plain": [
       "True"
      ]
     },
     "execution_count": 50,
     "metadata": {},
     "output_type": "execute_result"
    }
   ],
   "source": [
    "ans = Solution1()\n",
    "ans.isValid(\"[()]\")\n",
    "##太慢 , 用太多儲存空間"
   ]
  },
  {
   "cell_type": "code",
   "execution_count": 57,
   "id": "93b47c79",
   "metadata": {},
   "outputs": [],
   "source": [
    "# 稍簡化解法\n",
    "def isValid( s):\n",
    "    parentheses = {\"(\": \")\", \"[\": \"]\", \"{\": \"}\"}\n",
    "\n",
    "    stack = []   # Array Implementation of stack\n",
    "\n",
    "    for c in s:\n",
    "        if c in parentheses:\n",
    "            stack.append(c) # Push in stack\n",
    "        else:\n",
    "            if not stack or parentheses[stack.pop()] != c:  # not stack = True --> stack為空\n",
    "                return False\n",
    "\n",
    "    return stack == []"
   ]
  },
  {
   "cell_type": "code",
   "execution_count": 53,
   "id": "b660d732",
   "metadata": {
    "scrolled": true
   },
   "outputs": [
    {
     "data": {
      "text/plain": [
       "True"
      ]
     },
     "execution_count": 53,
     "metadata": {},
     "output_type": "execute_result"
    }
   ],
   "source": [
    "isValid('[()]')"
   ]
  },
  {
   "cell_type": "code",
   "execution_count": 56,
   "id": "ddb92464",
   "metadata": {},
   "outputs": [
    {
     "data": {
      "text/plain": [
       "True"
      ]
     },
     "execution_count": 56,
     "metadata": {},
     "output_type": "execute_result"
    }
   ],
   "source": [
    "stack = []\n",
    "not stack"
   ]
  },
  {
   "cell_type": "code",
   "execution_count": null,
   "id": "31bb8c14",
   "metadata": {},
   "outputs": [],
   "source": []
  }
 ],
 "metadata": {
  "kernelspec": {
   "display_name": "Python 3 (ipykernel)",
   "language": "python",
   "name": "python3"
  },
  "language_info": {
   "codemirror_mode": {
    "name": "ipython",
    "version": 3
   },
   "file_extension": ".py",
   "mimetype": "text/x-python",
   "name": "python",
   "nbconvert_exporter": "python",
   "pygments_lexer": "ipython3",
   "version": "3.8.11"
  }
 },
 "nbformat": 4,
 "nbformat_minor": 5
}
