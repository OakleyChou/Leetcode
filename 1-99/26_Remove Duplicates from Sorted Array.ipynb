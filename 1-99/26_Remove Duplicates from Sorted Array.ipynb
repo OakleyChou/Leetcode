{
 "cells": [
  {
   "cell_type": "markdown",
   "id": "ece0d524",
   "metadata": {},
   "source": [
    "題目:求出array中unique元素有幾個,並原地刪除重複值  \n",
    "Given an integer array nums sorted in non-decreasing order, remove the duplicates in-place such that each unique element appears only once. The relative order of the elements should be kept the same."
   ]
  },
  {
   "cell_type": "code",
   "execution_count": 8,
   "id": "ff56de88",
   "metadata": {},
   "outputs": [],
   "source": [
    "nums = [1,1,2,2,3,6]"
   ]
  },
  {
   "cell_type": "code",
   "execution_count": 11,
   "id": "a446520c",
   "metadata": {},
   "outputs": [],
   "source": [
    "class Solution:\n",
    "    def removeDuplicates(self, nums):\n",
    "        if not nums: return 0\n",
    "        i, j = 0, 1\n",
    "        while j < len(nums):\n",
    "            if nums[i] != nums[j]:\n",
    "                i += 1\n",
    "                nums[i] = nums[j]\n",
    "            j += 1\n",
    "        return i + 1"
   ]
  },
  {
   "cell_type": "code",
   "execution_count": 12,
   "id": "9791d07f",
   "metadata": {},
   "outputs": [
    {
     "data": {
      "text/plain": [
       "4"
      ]
     },
     "execution_count": 12,
     "metadata": {},
     "output_type": "execute_result"
    }
   ],
   "source": [
    "ans = Solution()\n",
    "nums = [1,1,2,2,3,6]\n",
    "ans. removeDuplicates(nums)"
   ]
  },
  {
   "cell_type": "code",
   "execution_count": 23,
   "id": "24d167b4",
   "metadata": {},
   "outputs": [],
   "source": [
    "##Way2 利用集合set只會保留唯一元素特性\n",
    "class Solution:\n",
    "    def removeDuplicates(self, nums):\n",
    "        nums[:] = sorted(set(nums))\n",
    "        return len(nums)\n",
    "    \n",
    "#Faster"
   ]
  },
  {
   "cell_type": "code",
   "execution_count": 24,
   "id": "c113a7f6",
   "metadata": {},
   "outputs": [
    {
     "data": {
      "text/plain": [
       "4"
      ]
     },
     "execution_count": 24,
     "metadata": {},
     "output_type": "execute_result"
    }
   ],
   "source": [
    "ans = Solution()\n",
    "nums = [1,1,2,2,3,6]\n",
    "ans.removeDuplicates(nums)"
   ]
  },
  {
   "cell_type": "code",
   "execution_count": null,
   "id": "92f164bc",
   "metadata": {},
   "outputs": [],
   "source": []
  }
 ],
 "metadata": {
  "kernelspec": {
   "display_name": "Python 3 (ipykernel)",
   "language": "python",
   "name": "python3"
  },
  "language_info": {
   "codemirror_mode": {
    "name": "ipython",
    "version": 3
   },
   "file_extension": ".py",
   "mimetype": "text/x-python",
   "name": "python",
   "nbconvert_exporter": "python",
   "pygments_lexer": "ipython3",
   "version": "3.8.11"
  }
 },
 "nbformat": 4,
 "nbformat_minor": 5
}
