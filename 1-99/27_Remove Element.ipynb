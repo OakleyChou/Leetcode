{
 "cells": [
  {
   "cell_type": "markdown",
   "id": "ae809373",
   "metadata": {},
   "source": [
    "題目: 刪除array中指定元素  \n",
    "Given an integer array nums and an integer val, remove all occurrences of val in nums in-place.  \n",
    "The relative order of the elements may be changed.  "
   ]
  },
  {
   "cell_type": "code",
   "execution_count": 20,
   "id": "8dfb72fd",
   "metadata": {},
   "outputs": [],
   "source": [
    "#way1 先判斷元素等不等於val , 再計算留下的長度\n",
    "from itertools import compress\n",
    "judge = []\n",
    "def removeElement(nums , val):\n",
    "    for i in range(0,len(nums)):\n",
    "        judge.append( nums[i] == val  )\n",
    "    nums = list(compress(nums, judge))\n",
    "    return len(nums)"
   ]
  },
  {
   "cell_type": "code",
   "execution_count": 22,
   "id": "85fe0dc9",
   "metadata": {},
   "outputs": [
    {
     "data": {
      "text/plain": [
       "3"
      ]
     },
     "execution_count": 22,
     "metadata": {},
     "output_type": "execute_result"
    }
   ],
   "source": [
    "removeElement(nums = [3,2,33,2,3] , val = 3)"
   ]
  },
  {
   "cell_type": "code",
   "execution_count": 25,
   "id": "f61e934a",
   "metadata": {},
   "outputs": [],
   "source": [
    "#way2 直接判斷該值等不等於val , 不等於的話計數+1\n",
    "class Solution:\n",
    "    def removeElement(self, nums, val):\n",
    "        length = 0 \n",
    "        for i in range(len(nums)):\n",
    "            if nums[i] != val : #如果為非需移除值\n",
    "                nums[length] = nums[i]\n",
    "                length += 1\n",
    "        return length"
   ]
  },
  {
   "cell_type": "code",
   "execution_count": 26,
   "id": "5c958004",
   "metadata": {
    "scrolled": true
   },
   "outputs": [
    {
     "data": {
      "text/plain": [
       "3"
      ]
     },
     "execution_count": 26,
     "metadata": {},
     "output_type": "execute_result"
    }
   ],
   "source": [
    "ans = Solution()\n",
    "ans.removeElement(nums = [3,2,33,2,3] , val = 3)"
   ]
  },
  {
   "cell_type": "code",
   "execution_count": null,
   "id": "b0548f41",
   "metadata": {},
   "outputs": [],
   "source": [
    "#way3 判斷當前值=val -->直接刪除\n",
    "class Solution:\n",
    "    def removeElement(self, nums, val):\n",
    "        while val in nums :\n",
    "            nums.remove(val)\n",
    "        return len(nums)"
   ]
  },
  {
   "cell_type": "code",
   "execution_count": 30,
   "id": "6441d1c2",
   "metadata": {},
   "outputs": [
    {
     "data": {
      "text/plain": [
       "3"
      ]
     },
     "execution_count": 30,
     "metadata": {},
     "output_type": "execute_result"
    }
   ],
   "source": [
    "ans = Solution()\n",
    "ans.removeElement(nums = [3,2,33,2,3] , val = 3)"
   ]
  },
  {
   "cell_type": "code",
   "execution_count": null,
   "id": "7b9ffe6c",
   "metadata": {},
   "outputs": [],
   "source": []
  }
 ],
 "metadata": {
  "kernelspec": {
   "display_name": "Python 3 (ipykernel)",
   "language": "python",
   "name": "python3"
  },
  "language_info": {
   "codemirror_mode": {
    "name": "ipython",
    "version": 3
   },
   "file_extension": ".py",
   "mimetype": "text/x-python",
   "name": "python",
   "nbconvert_exporter": "python",
   "pygments_lexer": "ipython3",
   "version": "3.8.11"
  }
 },
 "nbformat": 4,
 "nbformat_minor": 5
}
