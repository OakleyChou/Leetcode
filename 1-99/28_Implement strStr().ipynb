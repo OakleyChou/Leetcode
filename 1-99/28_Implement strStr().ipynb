{
 "cells": [
  {
   "cell_type": "markdown",
   "id": "a73e3dfc",
   "metadata": {},
   "source": [
    "題目:找出字串中最先與haystack相同的部分  \n",
    "    Return the index of the first occurrence of needle in haystack, or -1 if needle is not part of haystack.  "
   ]
  },
  {
   "cell_type": "code",
   "execution_count": 7,
   "id": "84e6886c",
   "metadata": {},
   "outputs": [
    {
     "data": {
      "text/plain": [
       "True"
      ]
     },
     "execution_count": 7,
     "metadata": {},
     "output_type": "execute_result"
    }
   ],
   "source": [
    "haystack = \"hello\"\n",
    "needle = \"ll\"\n",
    "len(needle)\n",
    "haystack[2:4] == needle"
   ]
  },
  {
   "cell_type": "code",
   "execution_count": 28,
   "id": "b83da983",
   "metadata": {},
   "outputs": [],
   "source": [
    "def strStr( haystack, needle):\n",
    "    if (haystack is None or needle is None or len(needle) == 0 ): #若其中一個是空的話\n",
    "        return 0 \n",
    "    for i in range(len(haystack)):\n",
    "        if haystack[i : i+len(needle)] == needle:\n",
    "            return i\n",
    "    return -1                                                     #若沒有包含-->輸出-1"
   ]
  },
  {
   "cell_type": "code",
   "execution_count": 29,
   "id": "ea80c95e",
   "metadata": {},
   "outputs": [
    {
     "data": {
      "text/plain": [
       "-1"
      ]
     },
     "execution_count": 29,
     "metadata": {},
     "output_type": "execute_result"
    }
   ],
   "source": [
    "strStr(haystack = \"hello\" , needle='k')"
   ]
  },
  {
   "cell_type": "code",
   "execution_count": 32,
   "id": "ecf57848",
   "metadata": {},
   "outputs": [],
   "source": [
    "#way2 利用 .in判斷是否haystack包含needle, .find 尋找位置 \n",
    "def strStr( haystack, needle):\n",
    "    if not needle :\n",
    "        return 0 \n",
    "    if needle in haystack:\n",
    "        return haystack.find(needle)\n",
    "    else : return -1"
   ]
  },
  {
   "cell_type": "code",
   "execution_count": 33,
   "id": "e9dd3263",
   "metadata": {},
   "outputs": [
    {
     "data": {
      "text/plain": [
       "-1"
      ]
     },
     "execution_count": 33,
     "metadata": {},
     "output_type": "execute_result"
    }
   ],
   "source": [
    "strStr(haystack = \"hello\" , needle='k')"
   ]
  },
  {
   "cell_type": "code",
   "execution_count": null,
   "id": "d05035ad",
   "metadata": {},
   "outputs": [],
   "source": []
  },
  {
   "cell_type": "code",
   "execution_count": null,
   "id": "147c6288",
   "metadata": {},
   "outputs": [],
   "source": []
  }
 ],
 "metadata": {
  "kernelspec": {
   "display_name": "Python 3 (ipykernel)",
   "language": "python",
   "name": "python3"
  },
  "language_info": {
   "codemirror_mode": {
    "name": "ipython",
    "version": 3
   },
   "file_extension": ".py",
   "mimetype": "text/x-python",
   "name": "python",
   "nbconvert_exporter": "python",
   "pygments_lexer": "ipython3",
   "version": "3.8.11"
  }
 },
 "nbformat": 4,
 "nbformat_minor": 5
}
