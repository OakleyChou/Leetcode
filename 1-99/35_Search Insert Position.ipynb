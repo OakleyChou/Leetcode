{
 "cells": [
  {
   "cell_type": "markdown",
   "id": "21fab438",
   "metadata": {},
   "source": [
    "<<二元搜索法(Binary Search)>>\n",
    "題目:  \n",
    "給一個排序數組和一個目標值，在數組中找目標值，並返回其索引。如果目標值不存在於數組中，返回它將會被按順序插入的位置。  \n",
    "Given a sorted array of distinct integers and a target value, return the index if the target is found.   \n",
    "If not, return the index where it would be if it were inserted in order.  \n",
    "You may assume no duplicates in the array.  \n",
    "You must write an algorithm with O(log n) runtime complexity.\n",
    "\n",
    " \n",
    "\n"
   ]
  },
  {
   "cell_type": "code",
   "execution_count": 34,
   "id": "8d8b7355",
   "metadata": {},
   "outputs": [],
   "source": [
    "class Solution:\n",
    "    def searchInsert(self,nums , target):\n",
    "        low = 0 ; up = len(nums) -1\n",
    "        mid = (low + up) // 2\n",
    "        while low <= up :\n",
    "            if  nums[mid] == target :\n",
    "                return mid\n",
    "            elif nums[mid] > target :\n",
    "                up = mid - 1\n",
    "            elif nums[mid] < target :\n",
    "                low = mid + 1\n",
    "            mid =(low + up) // 2\n",
    "        return low"
   ]
  },
  {
   "cell_type": "code",
   "execution_count": 35,
   "id": "ace2b023",
   "metadata": {},
   "outputs": [
    {
     "data": {
      "text/plain": [
       "3"
      ]
     },
     "execution_count": 35,
     "metadata": {},
     "output_type": "execute_result"
    }
   ],
   "source": [
    "nums = [1,3,5,6,7]\n",
    "target = 4\n",
    "searchInsert([1,3,5,6,7] , 6)"
   ]
  },
  {
   "cell_type": "code",
   "execution_count": null,
   "id": "b417afd8",
   "metadata": {},
   "outputs": [],
   "source": []
  }
 ],
 "metadata": {
  "kernelspec": {
   "display_name": "Python 3 (ipykernel)",
   "language": "python",
   "name": "python3"
  },
  "language_info": {
   "codemirror_mode": {
    "name": "ipython",
    "version": 3
   },
   "file_extension": ".py",
   "mimetype": "text/x-python",
   "name": "python",
   "nbconvert_exporter": "python",
   "pygments_lexer": "ipython3",
   "version": "3.8.11"
  }
 },
 "nbformat": 4,
 "nbformat_minor": 5
}
