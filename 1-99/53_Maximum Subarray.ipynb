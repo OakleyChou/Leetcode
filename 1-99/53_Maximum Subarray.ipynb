{
 "cells": [
  {
   "cell_type": "markdown",
   "id": "32049a57",
   "metadata": {},
   "source": [
    "<<動態規劃(Dynamic Programming)>>  \n",
    "題目:找出array中連續總和最大的子數組並返回其和\n",
    "\n",
    "Given an integer array nums, find the contiguous subarray (containing at least one number)   \n",
    "which has the largest sum and return its sum.  \n",
    "\n",
    "A subarray is a contiguous part of an array."
   ]
  },
  {
   "cell_type": "code",
   "execution_count": 13,
   "id": "c7a34f1b",
   "metadata": {},
   "outputs": [],
   "source": [
    "class Solution():\n",
    "    def maxSubArray(self, nums):\n",
    "        length = len(nums)\n",
    "        if length == 0 :\n",
    "            return 0\n",
    "        res = curr = nums[0]\n",
    "        for i in range(1, length):\n",
    "            if curr > 0 :\n",
    "                curr += nums[i]  #是否斷開前面(前面是正的-->不斷)\n",
    "            else : \n",
    "                curr = nums[i]   #前面是負的 --> 斷開\n",
    "            if curr > res :\n",
    "                res = curr       #如果當前>先前最佳 --> 取代\n",
    "        return res"
   ]
  },
  {
   "cell_type": "code",
   "execution_count": 14,
   "id": "bde7f3ab",
   "metadata": {},
   "outputs": [
    {
     "data": {
      "text/plain": [
       "6"
      ]
     },
     "execution_count": 14,
     "metadata": {},
     "output_type": "execute_result"
    }
   ],
   "source": [
    "ans = Solution()\n",
    "ans.maxSubArray( nums=[2,-3,1,-5,1,4,1] )"
   ]
  },
  {
   "cell_type": "code",
   "execution_count": null,
   "id": "261add97",
   "metadata": {},
   "outputs": [],
   "source": []
  },
  {
   "cell_type": "code",
   "execution_count": null,
   "id": "47b02329",
   "metadata": {},
   "outputs": [],
   "source": []
  }
 ],
 "metadata": {
  "kernelspec": {
   "display_name": "Python 3 (ipykernel)",
   "language": "python",
   "name": "python3"
  },
  "language_info": {
   "codemirror_mode": {
    "name": "ipython",
    "version": 3
   },
   "file_extension": ".py",
   "mimetype": "text/x-python",
   "name": "python",
   "nbconvert_exporter": "python",
   "pygments_lexer": "ipython3",
   "version": "3.8.11"
  }
 },
 "nbformat": 4,
 "nbformat_minor": 5
}
