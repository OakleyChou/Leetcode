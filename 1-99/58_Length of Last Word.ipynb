{
 "cells": [
  {
   "cell_type": "markdown",
   "id": "4811efde",
   "metadata": {},
   "source": [
    "Given a string s consisting of some words separated by some number of spaces, return the length of the last word in the string.  \n",
    "\n",
    "A word is a maximal substring consisting of non-space characters only."
   ]
  },
  {
   "cell_type": "code",
   "execution_count": 16,
   "id": "cdcdf99e",
   "metadata": {},
   "outputs": [],
   "source": [
    "class Solution():\n",
    "    def lengthOfLastWord(self,s) :\n",
    "        return len(s.strip()) - s.strip().rfind(' ') -1"
   ]
  },
  {
   "cell_type": "code",
   "execution_count": 17,
   "id": "d3b98eef",
   "metadata": {},
   "outputs": [
    {
     "data": {
      "text/plain": [
       "5"
      ]
     },
     "execution_count": 17,
     "metadata": {},
     "output_type": "execute_result"
    }
   ],
   "source": [
    "s = \"Hello World \"\n",
    "ans = Solution()\n",
    "ans.lengthOfLastWord(s)"
   ]
  },
  {
   "cell_type": "code",
   "execution_count": null,
   "id": "69c1cc94",
   "metadata": {},
   "outputs": [],
   "source": []
  }
 ],
 "metadata": {
  "kernelspec": {
   "display_name": "Python 3 (ipykernel)",
   "language": "python",
   "name": "python3"
  },
  "language_info": {
   "codemirror_mode": {
    "name": "ipython",
    "version": 3
   },
   "file_extension": ".py",
   "mimetype": "text/x-python",
   "name": "python",
   "nbconvert_exporter": "python",
   "pygments_lexer": "ipython3",
   "version": "3.8.11"
  }
 },
 "nbformat": 4,
 "nbformat_minor": 5
}
