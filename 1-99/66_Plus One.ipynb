{
 "cells": [
  {
   "cell_type": "code",
   "execution_count": 1,
   "id": "7e4d51e7",
   "metadata": {},
   "outputs": [],
   "source": [
    "digits = [4,3,2,1]"
   ]
  },
  {
   "cell_type": "code",
   "execution_count": 13,
   "id": "bb48930c",
   "metadata": {},
   "outputs": [
    {
     "data": {
      "text/plain": [
       "int"
      ]
     },
     "execution_count": 13,
     "metadata": {},
     "output_type": "execute_result"
    }
   ],
   "source": [
    "type( digits[0] * (10**3) )"
   ]
  },
  {
   "cell_type": "code",
   "execution_count": 32,
   "id": "57c3d33b",
   "metadata": {},
   "outputs": [],
   "source": [
    "#Way1 : 先變成數字+1後再返回list\n",
    "def plusOne(digits) :\n",
    "    k=1 ; ans = []\n",
    "    for i in range(len(digits) ):\n",
    "        k +=  digits[i] * (10 **(len(digits) - i-1))\n",
    "    for j in range(len( str(k) )):\n",
    "        ans.append( str(k)[j])\n",
    "    return ans"
   ]
  },
  {
   "cell_type": "code",
   "execution_count": 34,
   "id": "2983cded",
   "metadata": {
    "scrolled": true
   },
   "outputs": [
    {
     "data": {
      "text/plain": [
       "['1', '0']"
      ]
     },
     "execution_count": 34,
     "metadata": {},
     "output_type": "execute_result"
    }
   ],
   "source": [
    "plusOne(digits=[9])"
   ]
  },
  {
   "cell_type": "code",
   "execution_count": 68,
   "id": "5000c105",
   "metadata": {},
   "outputs": [],
   "source": [
    "# Way2 從後向前掃描,若當前!=9 , 則加1 , 結束 ; 若等於9 ->往前一位檢查 , 最後查看若第一位為0 ->向前加一位1\n",
    "def plusOne(digits):\n",
    "    for i in range( len(digits)-1 , -1 ,-1 ) : # 從後往前閱歷  range(start , end(不包含) ,step)\n",
    "        if digits[i] != 9 :\n",
    "            digits[i] += 1\n",
    "            return digits\n",
    "        else : #是9\n",
    "            digits[i] = 0\n",
    "            if digits[0] == 0 :\n",
    "                digits.insert(0,1)\n",
    "                return digits"
   ]
  },
  {
   "cell_type": "code",
   "execution_count": 71,
   "id": "9460033e",
   "metadata": {},
   "outputs": [
    {
     "data": {
      "text/plain": [
       "[1, 0, 0]"
      ]
     },
     "execution_count": 71,
     "metadata": {},
     "output_type": "execute_result"
    }
   ],
   "source": [
    "plusOne(digits=[9,9])"
   ]
  },
  {
   "cell_type": "code",
   "execution_count": null,
   "id": "5324e5c6",
   "metadata": {},
   "outputs": [],
   "source": []
  }
 ],
 "metadata": {
  "kernelspec": {
   "display_name": "Python 3 (ipykernel)",
   "language": "python",
   "name": "python3"
  },
  "language_info": {
   "codemirror_mode": {
    "name": "ipython",
    "version": 3
   },
   "file_extension": ".py",
   "mimetype": "text/x-python",
   "name": "python",
   "nbconvert_exporter": "python",
   "pygments_lexer": "ipython3",
   "version": "3.8.11"
  }
 },
 "nbformat": 4,
 "nbformat_minor": 5
}
