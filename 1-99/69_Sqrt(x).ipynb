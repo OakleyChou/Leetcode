{
 "cells": [
  {
   "cell_type": "markdown",
   "id": "db2aa19a",
   "metadata": {},
   "source": [
    "題目:取根號(不能使用 ** 0.5)  \n",
    "Given a non-negative integer x, compute and return the square root of x.  \n",
    "Since the return type is an integer, the decimal digits are truncated, and only the integer part of the result is returned.   \n",
    "Constraints:  \n",
    "0 <= x <= 2**31 - 1"
   ]
  },
  {
   "cell_type": "code",
   "execution_count": 25,
   "id": "86f3f274",
   "metadata": {},
   "outputs": [],
   "source": [
    "def mySqrt(x) :\n",
    "    for i in range(0,x+1):\n",
    "        if i**2 <= x < (i+1)**2 :\n",
    "            return i\n",
    "        \n",
    "## Time Limit Exceeded"
   ]
  },
  {
   "cell_type": "code",
   "execution_count": 29,
   "id": "a2517834",
   "metadata": {},
   "outputs": [
    {
     "data": {
      "text/plain": [
       "14931"
      ]
     },
     "execution_count": 29,
     "metadata": {},
     "output_type": "execute_result"
    }
   ],
   "source": [
    "mySqrt(222944993)"
   ]
  },
  {
   "cell_type": "code",
   "execution_count": 45,
   "id": "9e8f235d",
   "metadata": {},
   "outputs": [],
   "source": [
    "# Binary search\n",
    "def mySqrt( x):\n",
    "    low, up = 0 ,x\n",
    "    mid = (low + up) // 2\n",
    "    while low <= up :\n",
    "        \n",
    "        if mid * mid > x :\n",
    "            up = mid - 1 \n",
    "        elif mid * mid < x :\n",
    "            low = mid + 1\n",
    "        else : return mid #平方根是整數時\n",
    "        mid = (low + up) // 2\n",
    "    return mid\n",
    "        "
   ]
  },
  {
   "cell_type": "code",
   "execution_count": 46,
   "id": "bbfae095",
   "metadata": {},
   "outputs": [
    {
     "data": {
      "text/plain": [
       "4"
      ]
     },
     "execution_count": 46,
     "metadata": {},
     "output_type": "execute_result"
    }
   ],
   "source": [
    "mySqrt(20)"
   ]
  },
  {
   "cell_type": "code",
   "execution_count": null,
   "id": "ee30e248",
   "metadata": {},
   "outputs": [],
   "source": []
  },
  {
   "cell_type": "code",
   "execution_count": null,
   "id": "c7a2d178",
   "metadata": {},
   "outputs": [],
   "source": []
  },
  {
   "cell_type": "code",
   "execution_count": null,
   "id": "d2a036c0",
   "metadata": {},
   "outputs": [],
   "source": [
    "def mySqrt(self, x):\n",
    "        lo, hi = 0, x\n",
    "        \n",
    "        while lo <= hi:\n",
    "            mid = (lo + hi) // 2\n",
    "            \n",
    "            if mid * mid > x:\n",
    "                hi = mid - 1\n",
    "            elif mid * mid < x:\n",
    "                lo = mid + 1\n",
    "            else:\n",
    "                return mid"
   ]
  }
 ],
 "metadata": {
  "kernelspec": {
   "display_name": "Python 3 (ipykernel)",
   "language": "python",
   "name": "python3"
  },
  "language_info": {
   "codemirror_mode": {
    "name": "ipython",
    "version": 3
   },
   "file_extension": ".py",
   "mimetype": "text/x-python",
   "name": "python",
   "nbconvert_exporter": "python",
   "pygments_lexer": "ipython3",
   "version": "3.8.11"
  }
 },
 "nbformat": 4,
 "nbformat_minor": 5
}
