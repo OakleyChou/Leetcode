{
 "cells": [
  {
   "cell_type": "markdown",
   "id": "67744739",
   "metadata": {},
   "source": [
    "題目:有幾種方法可以爬到頂  \n",
    "You are climbing a staircase. It takes n steps to reach the top.  \n",
    " \n",
    "Each time you can either climb 1 or 2 steps. In how many distinct ways can you climb to the top?  "
   ]
  },
  {
   "cell_type": "code",
   "execution_count": 17,
   "id": "7e15c600",
   "metadata": {},
   "outputs": [],
   "source": [
    "#第n步 = (n-1) + (n-2)步和 , 最後一步走1步 or 2步"
   ]
  },
  {
   "cell_type": "code",
   "execution_count": 15,
   "id": "18b06a70",
   "metadata": {},
   "outputs": [],
   "source": [
    "def climbStair(n):\n",
    "    way = [1,2]\n",
    "    for i in range(2, n):\n",
    "        way.append( way[i-1] + way[i-2])\n",
    "    return way[n-1]"
   ]
  },
  {
   "cell_type": "code",
   "execution_count": 16,
   "id": "18ae3ddd",
   "metadata": {},
   "outputs": [
    {
     "data": {
      "text/plain": [
       "10946"
      ]
     },
     "execution_count": 16,
     "metadata": {},
     "output_type": "execute_result"
    }
   ],
   "source": [
    "climbStair(20)"
   ]
  },
  {
   "cell_type": "code",
   "execution_count": 20,
   "id": "cd825de7",
   "metadata": {},
   "outputs": [],
   "source": [
    "def climbStair(n):\n",
    "    if n == 1 :\n",
    "        return 1\n",
    "    if n == 2 :\n",
    "        return 2\n",
    "    s1 , s2 = 1 , 2\n",
    "    for _ in range(n-2):\n",
    "        s1 , s2  = s2 , s1 + s2\n",
    "    return s2"
   ]
  },
  {
   "cell_type": "code",
   "execution_count": 21,
   "id": "0095dd6c",
   "metadata": {},
   "outputs": [
    {
     "data": {
      "text/plain": [
       "10946"
      ]
     },
     "execution_count": 21,
     "metadata": {},
     "output_type": "execute_result"
    }
   ],
   "source": [
    "climbStair(20)"
   ]
  },
  {
   "cell_type": "code",
   "execution_count": null,
   "id": "accb9527",
   "metadata": {},
   "outputs": [],
   "source": []
  }
 ],
 "metadata": {
  "kernelspec": {
   "display_name": "Python 3 (ipykernel)",
   "language": "python",
   "name": "python3"
  },
  "language_info": {
   "codemirror_mode": {
    "name": "ipython",
    "version": 3
   },
   "file_extension": ".py",
   "mimetype": "text/x-python",
   "name": "python",
   "nbconvert_exporter": "python",
   "pygments_lexer": "ipython3",
   "version": "3.8.11"
  }
 },
 "nbformat": 4,
 "nbformat_minor": 5
}
