{
 "cells": [
  {
   "cell_type": "markdown",
   "id": "df63d7a9",
   "metadata": {},
   "source": [
    "題目:刪除LinkedList重複部分  \n",
    "    Given the head of a sorted linked list, delete all duplicates such that each element appears only once.  \n",
    "    Return the linked list sorted as well.  \n",
    "\n",
    " "
   ]
  },
  {
   "cell_type": "code",
   "execution_count": 3,
   "id": "2f27dddf",
   "metadata": {},
   "outputs": [],
   "source": [
    "def deleteDuplicates(head):\n",
    "    ite = head                                #ite = 迭代器\n",
    "    while ite : \n",
    "        tmp = ite.next                        #tmp = 每次取得ite的下一個node做為暫存\n",
    "        while tmp and ite.val == tmp.val : #若重複\n",
    "            tmp = tmp.next                #繼續往後職到下一個不同的值 or 最底(tmp = Null)\n",
    "        ite.next = tmp                    #將重複的刪除\n",
    "        ite = tmp                         #遞移\n",
    "    return head"
   ]
  },
  {
   "cell_type": "code",
   "execution_count": null,
   "id": "2681dbf3",
   "metadata": {},
   "outputs": [],
   "source": []
  },
  {
   "cell_type": "code",
   "execution_count": null,
   "id": "81f4ad39",
   "metadata": {},
   "outputs": [],
   "source": []
  }
 ],
 "metadata": {
  "kernelspec": {
   "display_name": "Python 3 (ipykernel)",
   "language": "python",
   "name": "python3"
  },
  "language_info": {
   "codemirror_mode": {
    "name": "ipython",
    "version": 3
   },
   "file_extension": ".py",
   "mimetype": "text/x-python",
   "name": "python",
   "nbconvert_exporter": "python",
   "pygments_lexer": "ipython3",
   "version": "3.8.11"
  }
 },
 "nbformat": 4,
 "nbformat_minor": 5
}
