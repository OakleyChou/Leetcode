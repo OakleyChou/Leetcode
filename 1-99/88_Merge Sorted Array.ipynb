{
 "cells": [
  {
   "cell_type": "markdown",
   "id": "f00cdc84",
   "metadata": {},
   "source": [
    "題目:  把兩個有序的數組合併，把結果放到nums1  \n",
    "You are given two integer arrays nums1 and nums2, sorted in non-decreasing order, and two integers m and n,   \n",
    "representing the number of elements in nums1 and nums2 respectively.  \n",
    "\n",
    "Merge nums1 and nums2 into a single array sorted in non-decreasing order.  \n",
    "\n",
    "Input: nums1 = [1,2,3,0,0,0], m = 3, nums2 = [2,5,6], n = 3  \n",
    "Output: [1,2,2,3,5,6]   "
   ]
  },
  {
   "cell_type": "code",
   "execution_count": 11,
   "id": "2bb4cc68",
   "metadata": {},
   "outputs": [],
   "source": [
    "#判斷兩個array最後一個數 , 若取到那個array --> 往前一個比較"
   ]
  },
  {
   "cell_type": "code",
   "execution_count": 12,
   "id": "8c687c27",
   "metadata": {},
   "outputs": [],
   "source": [
    "def merge( nums1 , m , nums2 , n ):\n",
    "    while m>0 and n>0 :\n",
    "        if nums1[m-1] > nums2[n-1]:\n",
    "            nums1[m+n-1] = nums1[m-1]\n",
    "            m -= 1\n",
    "        else : \n",
    "            nums1[m+n-1] = nums2[n-1]\n",
    "            n -= 1\n",
    "    if n > 0 :\n",
    "        nums1[: n] = nums2[:n]\n",
    "    return nums1"
   ]
  },
  {
   "cell_type": "code",
   "execution_count": 13,
   "id": "4a9b61c6",
   "metadata": {},
   "outputs": [
    {
     "data": {
      "text/plain": [
       "[1, 2, 2, 3, 5, 6]"
      ]
     },
     "execution_count": 13,
     "metadata": {},
     "output_type": "execute_result"
    }
   ],
   "source": [
    "nums1 = [1,2,3,0,0,0] ;  m = 3 ;  nums2 = [2,5,6] ; n = 3\n",
    "merge( nums1 , m , nums2 , n )"
   ]
  },
  {
   "cell_type": "code",
   "execution_count": null,
   "id": "3cd81a93",
   "metadata": {},
   "outputs": [],
   "source": []
  }
 ],
 "metadata": {
  "kernelspec": {
   "display_name": "Python 3 (ipykernel)",
   "language": "python",
   "name": "python3"
  },
  "language_info": {
   "codemirror_mode": {
    "name": "ipython",
    "version": 3
   },
   "file_extension": ".py",
   "mimetype": "text/x-python",
   "name": "python",
   "nbconvert_exporter": "python",
   "pygments_lexer": "ipython3",
   "version": "3.8.11"
  }
 },
 "nbformat": 4,
 "nbformat_minor": 5
}
