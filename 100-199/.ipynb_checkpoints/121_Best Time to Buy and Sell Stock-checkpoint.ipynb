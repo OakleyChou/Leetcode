{
 "cells": [
  {
   "cell_type": "markdown",
   "id": "5abe463e",
   "metadata": {},
   "source": [
    "題目:   \n",
    "You are given an array prices where prices[i] is the price of a given stock on the ith day.  \n",
    " \n",
    "You want to maximize your profit by choosing a single day to buy one stock and    \n",
    "choosing a different day in the future to sell that stock.  "
   ]
  },
  {
   "cell_type": "code",
   "execution_count": 50,
   "id": "5bcc1035",
   "metadata": {},
   "outputs": [],
   "source": [
    "def maxProfit(prices) :\n",
    "    if len(prices) <= 1 : return 0\n",
    "    buy = prices[0]\n",
    "    sell = 0\n",
    "    maxprofit = 0 \n",
    "    for index in range(1 , len(prices)):\n",
    "        if buy == prices[index] : continue\n",
    "        if prices[index] < buy :            #如果之後又碰到更便宜的價位時\n",
    "            buy = prices[index]             #更新buy價為現在價格\n",
    "            sell = 0\n",
    "            continue\n",
    "        if prices[index] > sell :\n",
    "            sell = prices[index]\n",
    "            newprofit = sell - buy\n",
    "            maxprofit = maxProfit if newprofit < maxprofit else newprofit\n",
    "        print(sell , buy , maxprofit)\n",
    "    return maxprofit\n"
   ]
  },
  {
   "cell_type": "code",
   "execution_count": null,
   "id": "035c5d7e",
   "metadata": {},
   "outputs": [],
   "source": [
    "class Solution:\n",
    "    def maxProfit(self, prices: List[int]) -> int:\n",
    "        if len(prices) <= 1: return 0\n",
    "        buy = prices[0]\n",
    "        sell = 0\n",
    "        maxProfit = 0\n",
    "        for index in range(1, len(prices)):\n",
    "            if buy == prices[index]: continue\n",
    "            if prices[index] < buy:\n",
    "                buy = prices[index]\n",
    "                sell = 0\n",
    "                continue\n",
    "            if prices[index] > sell:\n",
    "                sell = prices[index]\n",
    "                newProfit = sell - buy\n",
    "                maxProfit = maxProfit if newProfit < maxProfit else newProfit\n",
    "            # print(index, buy, sell)\n",
    "        return maxProfit"
   ]
  },
  {
   "cell_type": "code",
   "execution_count": 51,
   "id": "430c84e7",
   "metadata": {
    "scrolled": true
   },
   "outputs": [
    {
     "name": "stdout",
     "output_type": "stream",
     "text": [
      "4 2 2\n"
     ]
    },
    {
     "data": {
      "text/plain": [
       "2"
      ]
     },
     "execution_count": 51,
     "metadata": {},
     "output_type": "execute_result"
    }
   ],
   "source": [
    "prices = [7,2,4,1]\n",
    "maxProfit(prices)"
   ]
  },
  {
   "cell_type": "code",
   "execution_count": null,
   "id": "f5abdd74",
   "metadata": {},
   "outputs": [],
   "source": []
  },
  {
   "cell_type": "code",
   "execution_count": null,
   "id": "b179dab2",
   "metadata": {},
   "outputs": [],
   "source": []
  },
  {
   "cell_type": "code",
   "execution_count": 48,
   "id": "8e7a2b8c",
   "metadata": {},
   "outputs": [],
   "source": [
    "class Solution:\n",
    "    def maxProfit(self, prices) :\n",
    "        if len(prices) < 2: return 0    \n",
    "        profit = 0\n",
    "        buy = prices[0]\n",
    "        for price in prices[1:]:\n",
    "            buy = min(buy, price)\n",
    "            profit = max(profit, price - buy)\n",
    "\n",
    "        return profit"
   ]
  },
  {
   "cell_type": "code",
   "execution_count": 49,
   "id": "cb0f4d92",
   "metadata": {},
   "outputs": [
    {
     "data": {
      "text/plain": [
       "2"
      ]
     },
     "execution_count": 49,
     "metadata": {},
     "output_type": "execute_result"
    }
   ],
   "source": [
    "ans=Solution()\n",
    "ans.maxProfit(prices)"
   ]
  },
  {
   "cell_type": "code",
   "execution_count": null,
   "id": "0df645c8",
   "metadata": {},
   "outputs": [],
   "source": []
  }
 ],
 "metadata": {
  "kernelspec": {
   "display_name": "Python 3 (ipykernel)",
   "language": "python",
   "name": "python3"
  },
  "language_info": {
   "codemirror_mode": {
    "name": "ipython",
    "version": 3
   },
   "file_extension": ".py",
   "mimetype": "text/x-python",
   "name": "python",
   "nbconvert_exporter": "python",
   "pygments_lexer": "ipython3",
   "version": "3.8.11"
  }
 },
 "nbformat": 4,
 "nbformat_minor": 5
}
