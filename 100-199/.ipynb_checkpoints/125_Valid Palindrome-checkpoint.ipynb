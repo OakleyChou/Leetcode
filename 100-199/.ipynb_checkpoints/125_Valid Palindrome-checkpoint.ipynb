{
 "cells": [
  {
   "cell_type": "markdown",
   "id": "e31ea131",
   "metadata": {},
   "source": [
    "題目:將大寫改為小寫,刪除所有空格及標點符號後,由後至前是否等於由前至後排序  \n",
    "A phrase is a palindrome if, after converting all uppercase letters into lowercase letters and removing all non-alphanumeric characters, it reads the same forward and backward. Alphanumeric characters include letters and numbers.  \n",
    "\n",
    "Given a string s, return true if it is a palindrome, or false otherwise.  "
   ]
  },
  {
   "cell_type": "code",
   "execution_count": 45,
   "id": "e68efa49",
   "metadata": {},
   "outputs": [],
   "source": [
    "s = \"A man, a plan, a canal: Panama\"\n",
    "s1 = 'A man'\n",
    "s2 = '!.'\n",
    "s3 = \"0P\""
   ]
  },
  {
   "cell_type": "code",
   "execution_count": 49,
   "id": "864f8411",
   "metadata": {},
   "outputs": [],
   "source": [
    "class Solution:\n",
    "    def isPalindrome(self, s) :                              #isdigit:保留數字 , isalpha:保留字母 , isalnum:保留字母及數字\n",
    "        new = ''.join(list(filter(str.isalnum, s))).lower()  #先過濾,只保留數字及字母,並全部轉成小寫\n",
    "        if (new == new[::-1]) :                              #再判斷前->後 是否等於 後->前\n",
    "            return True\n",
    "        else : return False\n",
    "\n"
   ]
  },
  {
   "cell_type": "code",
   "execution_count": 50,
   "id": "37fc5d10",
   "metadata": {},
   "outputs": [
    {
     "data": {
      "text/plain": [
       "False"
      ]
     },
     "execution_count": 50,
     "metadata": {},
     "output_type": "execute_result"
    }
   ],
   "source": [
    "ans = Solution()\n",
    "ans.isPalindrome(s3)"
   ]
  },
  {
   "cell_type": "code",
   "execution_count": null,
   "id": "ca9d99a3",
   "metadata": {},
   "outputs": [],
   "source": []
  }
 ],
 "metadata": {
  "kernelspec": {
   "display_name": "Python 3 (ipykernel)",
   "language": "python",
   "name": "python3"
  },
  "language_info": {
   "codemirror_mode": {
    "name": "ipython",
    "version": 3
   },
   "file_extension": ".py",
   "mimetype": "text/x-python",
   "name": "python",
   "nbconvert_exporter": "python",
   "pygments_lexer": "ipython3",
   "version": "3.8.11"
  }
 },
 "nbformat": 4,
 "nbformat_minor": 5
}
