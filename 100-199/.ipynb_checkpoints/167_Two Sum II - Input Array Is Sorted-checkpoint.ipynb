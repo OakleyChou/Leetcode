{
 "cells": [
  {
   "cell_type": "markdown",
   "id": "4d700087",
   "metadata": {},
   "source": [
    "題目:  \n",
    "Given a 1-indexed array of integers numbers that is already sorted in non-decreasing order,   \n",
    "find two numbers such that they add up to a specific target number.  \n",
    "Let these two numbers be numbers[index1] and numbers[index2] where 1 <= index1 < index2 <= numbers.length.  \n",
    "\n",
    "Return the indices of the two numbers, index1 and index2, added by one as an integer array [index1, index2] of length 2.  \n",
    "\n",
    "The tests are generated such that there is exactly one solution. You may not use the same element twice.  "
   ]
  },
  {
   "cell_type": "markdown",
   "id": "939f98b9",
   "metadata": {},
   "source": [
    "### Binary Search"
   ]
  },
  {
   "cell_type": "code",
   "execution_count": 13,
   "id": "b81ca75a",
   "metadata": {},
   "outputs": [],
   "source": [
    "def twoSum(numbers, target):\n",
    "    low = 0 ; high = len(numbers) -1\n",
    "    while low <= high:\n",
    "        if numbers[low] + numbers[high] == target:\n",
    "            return low+1 , high+1\n",
    "        elif numbers[low] + numbers[high] < target:\n",
    "            low += 1\n",
    "        else :\n",
    "            high -= 1\n",
    "    return low+1 , high+1\n",
    "\n"
   ]
  },
  {
   "cell_type": "code",
   "execution_count": 14,
   "id": "b23c541a",
   "metadata": {},
   "outputs": [
    {
     "data": {
      "text/plain": [
       "(1, 2)"
      ]
     },
     "execution_count": 14,
     "metadata": {},
     "output_type": "execute_result"
    }
   ],
   "source": [
    "numbers = [2,7,11,15];target = 9\n",
    "twoSum(numbers = [2,7,11,15],target = 9)"
   ]
  },
  {
   "cell_type": "markdown",
   "id": "bcdef670",
   "metadata": {},
   "source": [
    "### HashMap"
   ]
  },
  {
   "cell_type": "code",
   "execution_count": 23,
   "id": "72072522",
   "metadata": {},
   "outputs": [],
   "source": [
    "def twoSum_hashmap(numbers , target):\n",
    "    d ={}\n",
    "    for i , n in enumerate(numbers):     #list中第i個是n\n",
    "        d[n] = i+1                       #index + 1\n",
    "    for i , n in enumerate(numbers):     #list中第i個是n\n",
    "        need = target - n\n",
    "        if need in d :                   #key\n",
    "            return i+1 , d[need]         # return index+1"
   ]
  },
  {
   "cell_type": "code",
   "execution_count": 24,
   "id": "773cb58c",
   "metadata": {},
   "outputs": [
    {
     "data": {
      "text/plain": [
       "(1, 2)"
      ]
     },
     "execution_count": 24,
     "metadata": {},
     "output_type": "execute_result"
    }
   ],
   "source": [
    "twoSum_hashmap(numbers , target)"
   ]
  },
  {
   "cell_type": "code",
   "execution_count": null,
   "id": "f9360d54",
   "metadata": {},
   "outputs": [],
   "source": []
  }
 ],
 "metadata": {
  "kernelspec": {
   "display_name": "Python 3 (ipykernel)",
   "language": "python",
   "name": "python3"
  },
  "language_info": {
   "codemirror_mode": {
    "name": "ipython",
    "version": 3
   },
   "file_extension": ".py",
   "mimetype": "text/x-python",
   "name": "python",
   "nbconvert_exporter": "python",
   "pygments_lexer": "ipython3",
   "version": "3.8.11"
  }
 },
 "nbformat": 4,
 "nbformat_minor": 5
}
