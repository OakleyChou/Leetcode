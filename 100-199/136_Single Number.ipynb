{
 "cells": [
  {
   "cell_type": "markdown",
   "id": "5359fad2",
   "metadata": {},
   "source": [
    "題目: 找出list中只出現過一次的數字    \n",
    "Given a non-empty array of integers nums, every element appears twice except for one. Find that single one.  \n",
    "\n",
    "You must implement a solution with a linear runtime complexity and use only constant extra space."
   ]
  },
  {
   "cell_type": "code",
   "execution_count": 18,
   "id": "6e978faf",
   "metadata": {},
   "outputs": [
    {
     "data": {
      "text/plain": [
       "2"
      ]
     },
     "execution_count": 18,
     "metadata": {},
     "output_type": "execute_result"
    }
   ],
   "source": [
    "nums = [2,1,1,3,3]\n",
    "nums.count(1)"
   ]
  },
  {
   "cell_type": "code",
   "execution_count": 16,
   "id": "2a44684d",
   "metadata": {},
   "outputs": [],
   "source": [
    "def singleNumber(nums) :\n",
    "    counting = {}\n",
    "    for item in nums:\n",
    "        counting[item] = nums.count(item)\n",
    "        if (counting[item] == 1 ) :\n",
    "            return (item)"
   ]
  },
  {
   "cell_type": "code",
   "execution_count": 19,
   "id": "341bc7e1",
   "metadata": {},
   "outputs": [
    {
     "data": {
      "text/plain": [
       "2"
      ]
     },
     "execution_count": 19,
     "metadata": {},
     "output_type": "execute_result"
    }
   ],
   "source": [
    "singleNumber(nums)"
   ]
  },
  {
   "cell_type": "code",
   "execution_count": null,
   "id": "2203421f",
   "metadata": {},
   "outputs": [],
   "source": [
    "#XOR 異或???\n",
    "def singleNumber(nums) :\n",
    "    res=0\n",
    "    for num in nums:\n",
    "        res^=num\n",
    "    return res"
   ]
  }
 ],
 "metadata": {
  "kernelspec": {
   "display_name": "Python 3 (ipykernel)",
   "language": "python",
   "name": "python3"
  },
  "language_info": {
   "codemirror_mode": {
    "name": "ipython",
    "version": 3
   },
   "file_extension": ".py",
   "mimetype": "text/x-python",
   "name": "python",
   "nbconvert_exporter": "python",
   "pygments_lexer": "ipython3",
   "version": "3.8.11"
  }
 },
 "nbformat": 4,
 "nbformat_minor": 5
}
